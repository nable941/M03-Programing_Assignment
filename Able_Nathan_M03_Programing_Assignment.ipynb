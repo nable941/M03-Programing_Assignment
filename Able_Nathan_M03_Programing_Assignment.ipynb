{
 "cells": [
  {
   "cell_type": "code",
   "execution_count": 34,
   "id": "14449781",
   "metadata": {},
   "outputs": [
    {
     "name": "stdout",
     "output_type": "stream",
     "text": [
      "Age 3 in 1979\n",
      "oldest in 1981\n",
      "['mozzarella', 'cinderella', 'salmonella']\n",
      "['mozzarella', 'Cinderella', 'salmonella']\n",
      "['MOZZARELLA', 'Cinderella', 'salmonella']\n",
      "['MOZZARELLA', 'Cinderella']\n",
      "['Groucho', 'Chico', 'Oprah']\n",
      "['Harry', 'Ron', 'Hermione']\n",
      "5\n"
     ]
    }
   ],
   "source": [
    "#7.1\n",
    "years_list = [1976, 1977, 1978, 1979, 1980, 1981]\n",
    "\n",
    "#7.2\n",
    "\n",
    "print(\"Age 3 in\", years_list[3])\n",
    "\n",
    "#7.3\n",
    "print( \"oldest in\", years_list[len(years_list)-1])\n",
    "\n",
    "#7.4\n",
    "things = [\"mozzarella\", \"cinderella\", \"salmonella\"]\n",
    "print(things)\n",
    "#7.5\n",
    "things[1] = things[1].capitalize()\n",
    "print(things)\n",
    "\n",
    "#7.6\n",
    "things[0] = things[0].upper()\n",
    "print(things)\n",
    "\n",
    "#7.7\n",
    "things.pop(2)\n",
    "print(things)\n",
    "\n",
    "#7.8\n",
    "surprise = [\"Groucho\", \"Chico\", \"Harpo\"]\n",
    "\n",
    "#7.9\n",
    "temp = surprise[len(surprise)-1]\n",
    "temp = temp.lower()\n",
    "reverse_temp = temp[::-1]\n",
    "temp = reverse_temp.capitalize()\n",
    "surprise[len(surprise)-1] = temp\n",
    "print(surprise)\n",
    "\n",
    "#9.1\n",
    "def good():\n",
    "    hp_list = ['Harry', 'Ron', 'Hermione']\n",
    "    return hp_list\n",
    "\n",
    "test_function = good()\n",
    "print(test_function)\n",
    "\n",
    "#9.2\n",
    "def get_odds():\n",
    "    odd_num = []\n",
    "    for i in range(10):\n",
    "        if (i % 2) != 0:\n",
    "            odd_num.append(i)\n",
    "    return odd_num\n",
    "\n",
    "odds = get_odds()\n",
    "print (odds[2])"
   ]
  },
  {
   "cell_type": "code",
   "execution_count": null,
   "id": "0b4e6c63",
   "metadata": {},
   "outputs": [],
   "source": []
  }
 ],
 "metadata": {
  "kernelspec": {
   "display_name": "Python 3 (ipykernel)",
   "language": "python",
   "name": "python3"
  },
  "language_info": {
   "codemirror_mode": {
    "name": "ipython",
    "version": 3
   },
   "file_extension": ".py",
   "mimetype": "text/x-python",
   "name": "python",
   "nbconvert_exporter": "python",
   "pygments_lexer": "ipython3",
   "version": "3.9.13"
  }
 },
 "nbformat": 4,
 "nbformat_minor": 5
}
